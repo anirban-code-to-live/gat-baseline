{
 "cells": [
  {
   "cell_type": "code",
   "execution_count": 2,
   "metadata": {},
   "outputs": [
    {
     "name": "stdout",
     "output_type": "stream",
     "text": [
      "../../data/cora/embeddings/cora_10_0.5_3_20.embed\n",
      "Number of data points :: 2708 \n",
      "Number of dimensions :: 7 \n",
      "../../data/cora/embeddings/cora_10_0.5_3_30.embed\n",
      "Number of data points :: 2708 \n",
      "Number of dimensions :: 7 \n",
      "../../data/cora/embeddings/cora_10_0.5_4_20.embed\n",
      "Number of data points :: 2708 \n",
      "Number of dimensions :: 7 \n",
      "../../data/cora/embeddings/cora_10_0.5_4_30.embed\n",
      "Number of data points :: 2708 \n",
      "Number of dimensions :: 7 \n"
     ]
    }
   ],
   "source": [
    "import func_convert as converter\n",
    "\n",
    "datasets = [\"cora\"]\n",
    "# embed_fnames = [\"cora_3_0.25_3.embed\", \"cora_3_0.5_3.embed\", \"cora_3_0.75_3.embed\", \"cora_5_0.25_3.embed\", \"cora_5_0.5_3.embed\",\n",
    "#                \"cora_5_0.75_3.embed\", \"cora_7_0.25_3.embed\", \"cora_7_0.5_3.embed\", \"cora_7_0.75_3.embed\"]\n",
    "\n",
    "embed_fnames = [\"cora_10_0.5_3_20.embed\", \"cora_10_0.5_3_30.embed\", \"cora_10_0.5_4_20.embed\", \"cora_10_0.5_4_30.embed\"]\n",
    "\n",
    "for dataset in datasets:\n",
    "    for embed_fname in embed_fnames:\n",
    "        converter.conv_to_csv(dataset, embed_fname)"
   ]
  }
 ],
 "metadata": {
  "kernelspec": {
   "display_name": "Python 3",
   "language": "python",
   "name": "python3"
  },
  "language_info": {
   "codemirror_mode": {
    "name": "ipython",
    "version": 3
   },
   "file_extension": ".py",
   "mimetype": "text/x-python",
   "name": "python",
   "nbconvert_exporter": "python",
   "pygments_lexer": "ipython3",
   "version": "3.6.7"
  }
 },
 "nbformat": 4,
 "nbformat_minor": 2
}
