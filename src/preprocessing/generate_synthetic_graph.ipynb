{
 "cells": [
  {
   "cell_type": "code",
   "execution_count": 22,
   "metadata": {},
   "outputs": [],
   "source": [
    "import os\n",
    "import pickle\n",
    "import networkx as nx\n",
    "import matplotlib.pyplot as plt\n",
    "import operator\n",
    "import numpy as np"
   ]
  },
  {
   "cell_type": "code",
   "execution_count": 9,
   "metadata": {},
   "outputs": [
    {
     "name": "stdout",
     "output_type": "stream",
     "text": [
      "Graph path :: /Users/anirban/Documents/IISC-Study/Project/Repos/attention2vec/data/got/got.gml\n"
     ]
    }
   ],
   "source": [
    "graph_base_path = os.path.dirname(os.path.dirname(os.path.dirname(os.path.realpath('__file__'))))\n",
    "graph = 'got'\n",
    "graph_path = os.path.join(graph_base_path, 'data' , graph, graph + '.gml')\n",
    "print('Graph path :: %s' % graph_path)"
   ]
  },
  {
   "cell_type": "code",
   "execution_count": 24,
   "metadata": {},
   "outputs": [
    {
     "name": "stdout",
     "output_type": "stream",
     "text": [
      "[0, 0, 0, 0, 0, 0, 0, 0]\n",
      "[1, 1, 1, 1, 1, 1, 1, 1, 1, 1]\n",
      "[0, 0, 0, 0, 0, 0, 0, 0, 1, 1, 1, 1, 1, 1, 1, 1, 1, 1]\n"
     ]
    }
   ],
   "source": [
    "G = nx.read_gml(graph_path, label='id')\n",
    "edgelist_path = os.path.join(graph_base_path, 'data' , graph, graph + '.edgelist')\n",
    "nx.write_edgelist(G, edgelist_path, data=False)\n",
    "cls_one_labels = [0]*8\n",
    "cls_two_labels = [1]*10\n",
    "print(cls_one_labels)\n",
    "print(cls_two_labels)\n",
    "labels = cls_one_labels + cls_two_labels\n",
    "print(labels)\n",
    "labels_fname = os.path.join(graph_base_path, 'data' , graph, graph + '_label.csv')\n",
    "np.savetxt(labels_fname, labels, fmt='%i')\n",
    "# nx.draw(g, with_labels=False)\n",
    "# plt.show()\n",
    "# plt.savefig('synthetic_original.png')"
   ]
  },
  {
   "cell_type": "code",
   "execution_count": 10,
   "metadata": {},
   "outputs": [
    {
     "ename": "NameError",
     "evalue": "name 'draw_graph_with_central_edges' is not defined",
     "output_type": "error",
     "traceback": [
      "\u001b[0;31m---------------------------------------------------------------------------\u001b[0m",
      "\u001b[0;31mNameError\u001b[0m                                 Traceback (most recent call last)",
      "\u001b[0;32m<ipython-input-10-6b2a67ecbaaf>\u001b[0m in \u001b[0;36m<module>\u001b[0;34m()\u001b[0m\n\u001b[1;32m      1\u001b[0m \u001b[0moriginal_top_edges\u001b[0m \u001b[0;34m=\u001b[0m \u001b[0;34m[\u001b[0m\u001b[0;36m15\u001b[0m\u001b[0;34m,\u001b[0m \u001b[0;36m5\u001b[0m\u001b[0;34m,\u001b[0m \u001b[0;36m4\u001b[0m\u001b[0;34m,\u001b[0m \u001b[0;36m1\u001b[0m\u001b[0;34m,\u001b[0m \u001b[0;36m7\u001b[0m\u001b[0;34m,\u001b[0m \u001b[0;36m25\u001b[0m\u001b[0;34m,\u001b[0m \u001b[0;36m45\u001b[0m\u001b[0;34m,\u001b[0m \u001b[0;36m52\u001b[0m\u001b[0;34m,\u001b[0m \u001b[0;36m9\u001b[0m\u001b[0;34m,\u001b[0m \u001b[0;36m66\u001b[0m\u001b[0;34m]\u001b[0m\u001b[0;34m\u001b[0m\u001b[0m\n\u001b[0;32m----> 2\u001b[0;31m \u001b[0mdraw_graph_with_central_edges\u001b[0m\u001b[0;34m(\u001b[0m\u001b[0moriginal_top_edges\u001b[0m\u001b[0;34m,\u001b[0m \u001b[0mg\u001b[0m\u001b[0;34m,\u001b[0m \u001b[0mloaded_edge_dict\u001b[0m\u001b[0;34m,\u001b[0m \u001b[0medge_centrality_dict\u001b[0m\u001b[0;34m)\u001b[0m\u001b[0;34m\u001b[0m\u001b[0m\n\u001b[0m",
      "\u001b[0;31mNameError\u001b[0m: name 'draw_graph_with_central_edges' is not defined"
     ]
    }
   ],
   "source": [
    "original_top_edges = [15, 5, 4, 1, 7, 25, 45, 52, 9, 66]\n",
    "draw_graph_with_central_edges(original_top_edges, g, loaded_edge_dict, edge_centrality_dict)"
   ]
  },
  {
   "cell_type": "code",
   "execution_count": null,
   "metadata": {},
   "outputs": [],
   "source": [
    "e2v_central_edges = [15, 76, 0, 9, 72, 25, 24, 5, 61, 71]\n",
    "draw_graph_with_central_edges(e2v_central_edges, g, loaded_edge_dict, edge_centrality_dict)"
   ]
  },
  {
   "cell_type": "code",
   "execution_count": null,
   "metadata": {},
   "outputs": [],
   "source": [
    "print(len(list(set(original_top_edges).intersection(set(e2v_central_edges)))))"
   ]
  },
  {
   "cell_type": "code",
   "execution_count": null,
   "metadata": {},
   "outputs": [],
   "source": [
    "# n2v_central_edges = []\n",
    "# draw_graph_with_central_edges(n2v_central_edges, g, edge_dict=loaded_edge_dict)"
   ]
  }
 ],
 "metadata": {
  "kernelspec": {
   "display_name": "Python 2",
   "language": "python",
   "name": "python2"
  },
  "language_info": {
   "codemirror_mode": {
    "name": "ipython",
    "version": 2
   },
   "file_extension": ".py",
   "mimetype": "text/x-python",
   "name": "python",
   "nbconvert_exporter": "python",
   "pygments_lexer": "ipython2",
   "version": "2.7.15"
  }
 },
 "nbformat": 4,
 "nbformat_minor": 2
}
